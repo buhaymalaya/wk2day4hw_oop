{
 "cells": [
  {
   "cell_type": "markdown",
   "metadata": {},
   "source": [
    "# Object-Oriented-Programming (OOP)"
   ]
  },
  {
   "cell_type": "markdown",
   "metadata": {},
   "source": [
    "## Tasks Today:\n",
    "\n",
    "   \n",
    "\n",
    "1) <b>Creating a Class (Initializing/Declaring)</b> <br>\n",
    "2) <b>Using a Class (Instantiating)</b> <br>\n",
    " &nbsp;&nbsp;&nbsp;&nbsp; a) Creating One Instance <br>\n",
    " &nbsp;&nbsp;&nbsp;&nbsp; b) Creating Multiple Instances <br>\n",
    " &nbsp;&nbsp;&nbsp;&nbsp; c) In-Class Exercise #1 - Create a Class 'Car' and instantiate three different makes of cars <br>\n",
    "3) <b>The \\__init\\__() Method</b> <br>\n",
    " &nbsp;&nbsp;&nbsp;&nbsp; a) The 'self' Attribute <br>\n",
    "4) <b>Class Attributes</b> <br>\n",
    " &nbsp;&nbsp;&nbsp;&nbsp; a) Initializing Attributes <br>\n",
    " &nbsp;&nbsp;&nbsp;&nbsp; b) Setting an Attribute Outside of the \\__init\\__() Method <br>\n",
    " &nbsp;&nbsp;&nbsp;&nbsp; c) Setting Defaults for Attributes <br>\n",
    " &nbsp;&nbsp;&nbsp;&nbsp; d) Accessing Class Attributes <br>\n",
    " &nbsp;&nbsp;&nbsp;&nbsp; e) Changing Class Attributes <br>\n",
    " &nbsp;&nbsp;&nbsp;&nbsp; f) In-Class Exercise #2 - Add a color and wheels attribute to your 'Car' class <br>\n",
    "5) <b>Class Methods</b> <br>\n",
    " &nbsp;&nbsp;&nbsp;&nbsp; a) Creating <br>\n",
    " &nbsp;&nbsp;&nbsp;&nbsp; b) Calling <br>\n",
    " &nbsp;&nbsp;&nbsp;&nbsp; c) Modifying an Attribute's Value Through a Method <br>\n",
    " &nbsp;&nbsp;&nbsp;&nbsp; d) Incrementing an Attribute's Value Through a Method <br>\n",
    " &nbsp;&nbsp;&nbsp;&nbsp; e) In-Class Exercise #3 - Add a method that prints the cars color and wheel number, then call them <br>\n",
    "6) <b>Inheritance</b> <br>\n",
    " &nbsp;&nbsp;&nbsp;&nbsp; a) Syntax for Inheriting from a Parent Class <br>\n",
    " &nbsp;&nbsp;&nbsp;&nbsp; b) The \\__init\\__() Method for a Child Class (super()) <br>\n",
    " &nbsp;&nbsp;&nbsp;&nbsp; c) Defining Attributes and Methods for the Child Class <br>\n",
    " &nbsp;&nbsp;&nbsp;&nbsp; d) Method Overriding <br>\n",
    " &nbsp;&nbsp;&nbsp;&nbsp; e) In-Class Exercise #4 - Create a class 'Ford' that inherits from 'Car' class and initialize it as a Blue Ford Explorer with 4 wheels using the super() method <br>\n",
    "7) <b>Classes as Attributes</b> <br>\n",
    "8) <b>Exercises</b> <br>\n",
    " &nbsp;&nbsp;&nbsp;&nbsp; a) Exercise #1 - Turn the shopping cart program from yesterday into an object-oriented program <br>"
   ]
  },
  {
   "cell_type": "markdown",
   "metadata": {},
   "source": [
    "## Creating a Class (Initializing/Declaring)\n",
    "<p>When creating a class, function, or even a variable you are initializing that object. Initializing and Declaring occur at the same time in Python, whereas in lower level languages you have to declare an object before initializing it. This is the first step in the process of using a class.</p>"
   ]
  },
  {
   "cell_type": "code",
   "execution_count": null,
   "metadata": {},
   "outputs": [],
   "source": [
    "# Metaphor on OOP: a notebook that contains different attributes\n",
    "#     vs.\n",
    "# Functional programming: building attributes to create a notebook\n",
    "\n",
    "# string1= '234234'\n",
    "# rev_str= string1[::-1]\n",
    "# print\n",
    "\n",
    "# def function(string):\n",
    "#     string[::-1]\n",
    "    \n",
    "# class Function"
   ]
  },
  {
   "cell_type": "code",
   "execution_count": 1,
   "metadata": {},
   "outputs": [],
   "source": [
    "class Car(): # parenthesis is part of inheritance \n",
    "    wheels = 4\n",
    "    color = 'blue'\n",
    "    # wheels and color are ATTRIBUTES\n",
    "    \n",
    "class Truck:\n",
    "    wheels = 4\n",
    "    color = 'black'"
   ]
  },
  {
   "cell_type": "markdown",
   "metadata": {},
   "source": [
    "## Using a Class (Instantiating)\n",
    "<p>The process of creating a class is called <i>Instantiating</i>. Each time you create a variable of that type of class, it is referred to as an <i>Instance</i> of that class. This is the second step in the process of using a class.</p>"
   ]
  },
  {
   "cell_type": "markdown",
   "metadata": {},
   "source": [
    "##### Creating One Instance"
   ]
  },
  {
   "cell_type": "code",
   "execution_count": 2,
   "metadata": {},
   "outputs": [],
   "source": [
    "# instance is an item of the class\n",
    "\n",
    "ford = Car()"
   ]
  },
  {
   "cell_type": "code",
   "execution_count": 8,
   "metadata": {},
   "outputs": [
    {
     "name": "stdout",
     "output_type": "stream",
     "text": [
      "<class '__main__.Car'>\n",
      "<__main__.Car object at 0x108f13d10>\n",
      "4\n"
     ]
    }
   ],
   "source": [
    "print(type(ford))\n",
    "print(ford)\n",
    "print(ford.wheels) # access attribute using dot notation - .wheels"
   ]
  },
  {
   "cell_type": "markdown",
   "metadata": {},
   "source": [
    "##### Creating Multiple Instances"
   ]
  },
  {
   "cell_type": "code",
   "execution_count": 6,
   "metadata": {},
   "outputs": [],
   "source": [
    "chevy = Car()\n",
    "aston = Car()\n",
    "\n",
    "# these are INSTANCES of the class Car"
   ]
  },
  {
   "cell_type": "code",
   "execution_count": 7,
   "metadata": {},
   "outputs": [
    {
     "name": "stdout",
     "output_type": "stream",
     "text": [
      "4 4\n"
     ]
    }
   ],
   "source": [
    "print(chevy.wheels, aston.wheels)"
   ]
  },
  {
   "cell_type": "code",
   "execution_count": 9,
   "metadata": {},
   "outputs": [],
   "source": [
    "aston.name = \"martin\""
   ]
  },
  {
   "cell_type": "code",
   "execution_count": 10,
   "metadata": {},
   "outputs": [
    {
     "name": "stdout",
     "output_type": "stream",
     "text": [
      "martin\n"
     ]
    }
   ],
   "source": [
    "print(aston.name)"
   ]
  },
  {
   "cell_type": "markdown",
   "metadata": {},
   "source": [
    "##### In-Class Exercise #1 - Create a Class 'Car' and Instantiate three different makes of cars"
   ]
  },
  {
   "cell_type": "code",
   "execution_count": 1,
   "metadata": {},
   "outputs": [
    {
     "name": "stdout",
     "output_type": "stream",
     "text": [
      "8 6\n",
      "True 10 None\n"
     ]
    }
   ],
   "source": [
    "class Car():\n",
    "    windows = 8\n",
    "    doors = 6\n",
    "    \n",
    "honda = Car()\n",
    "toyota = Car()\n",
    "kia = Car()\n",
    "\n",
    "print(honda.windows, toyota.doors)\n",
    "\n",
    "class Comp():\n",
    "    hardware = True\n",
    "    software = 10\n",
    "    keyboard = None\n",
    "    \n",
    "mac = Comp()\n",
    "pc = Comp()\n",
    "linny = Comp()\n",
    "\n",
    "print(mac.hardware, pc.software, linny.keyboard)"
   ]
  },
  {
   "cell_type": "markdown",
   "metadata": {},
   "source": [
    "## The \\__init\\__() Method <br>\n",
    "<p>This method is used in almost every created class, and called only once upon the creation of the class instance. This method will initialize all variables needed for the object.</p>"
   ]
  },
  {
   "cell_type": "code",
   "execution_count": 3,
   "metadata": {},
   "outputs": [
    {
     "name": "stdout",
     "output_type": "stream",
     "text": [
      "rubber 4 4\n",
      "rubber 5\n",
      "rubber 4 True 6\n"
     ]
    }
   ],
   "source": [
    "class Car():\n",
    "    wheels = 4 #global attribute\n",
    "    \n",
    "    def __init__(self, doors, sunroof=False): # self specifies this instance of car, not in general anymore\n",
    "        self.doors = doors # required parameter to call\n",
    "        self.sunroof = sunroof\n",
    "        self.tires = 'rubber' # can add attributes not included in parameters\n",
    "        \n",
    "plymouth = Car(4)\n",
    "print(plymouth.tires, plymouth.wheels, plymouth.doors)\n",
    "\n",
    "plymouth.wheels = 5 # replaces global value under class Car()\n",
    "print(plymouth.tires, plymouth.wheels)\n",
    "\n",
    "plymouth = Car(6, True)\n",
    "\n",
    "print(plymouth.tires, plymouth.wheels, plymouth.sunroof, plymouth.doors)"
   ]
  },
  {
   "cell_type": "markdown",
   "metadata": {},
   "source": [
    "##### The 'self' Attribute <br>\n",
    "<p>This attribute is required to keep track of specific instance's attributes. Without the self attribute, the program would not know how to reference or keep track of an instance's attributes.</p>"
   ]
  },
  {
   "cell_type": "code",
   "execution_count": null,
   "metadata": {},
   "outputs": [],
   "source": []
  },
  {
   "cell_type": "markdown",
   "metadata": {},
   "source": [
    "## Class Attributes <br>\n",
    "<p>While variables are inside of a class, they are referred to as attributes and not variables. When someone says 'attribute' you know they're speaking about a class. Attributes can be initialized through the init method, or outside of it.</p>"
   ]
  },
  {
   "cell_type": "markdown",
   "metadata": {},
   "source": [
    "##### Initializing Attributes"
   ]
  },
  {
   "cell_type": "code",
   "execution_count": null,
   "metadata": {},
   "outputs": [],
   "source": [
    "class Car():\n",
    "    wheels = 4 #global attribute\n",
    "    \n",
    "    # below initializes attributes\n",
    "    def __init__(self, doors, sunroof=False): # self specifies this instance of car, not in general anymore\n",
    "        self.doors = doors # required parameter to call\n",
    "        self.sunroof = sunroof\n",
    "        self.tires = 'rubber' # can add attributes not included in parameters"
   ]
  },
  {
   "cell_type": "markdown",
   "metadata": {},
   "source": [
    "##### Accessing Class Attributes"
   ]
  },
  {
   "cell_type": "code",
   "execution_count": null,
   "metadata": {
    "scrolled": true
   },
   "outputs": [],
   "source": [
    "# See Above"
   ]
  },
  {
   "cell_type": "markdown",
   "metadata": {},
   "source": [
    "##### Setting Defaults for Attributes"
   ]
  },
  {
   "cell_type": "code",
   "execution_count": null,
   "metadata": {},
   "outputs": [],
   "source": []
  },
  {
   "cell_type": "markdown",
   "metadata": {},
   "source": [
    "##### Changing Class Attributes <br>\n",
    "<p>Keep in mind there are global class attributes and then there are attributes only available to each class instance which won't effect other classes.</p>"
   ]
  },
  {
   "cell_type": "code",
   "execution_count": null,
   "metadata": {},
   "outputs": [],
   "source": [
    "# plymouth = Car(4, True)\n",
    "# print(plymouth.tires, plymouth.wheels)\n",
    "# plymouth.wheels = 5 # replaces global value under class Car()\n",
    "# print(plymouth.tires, plymouth.wheels)\n",
    "\n",
    "plymouth.old = True # .old attribute specific to plymouth instance"
   ]
  },
  {
   "cell_type": "code",
   "execution_count": null,
   "metadata": {},
   "outputs": [],
   "source": []
  },
  {
   "cell_type": "markdown",
   "metadata": {},
   "source": [
    "##### In-Class Exercise #2 - Add a doors and seats attribute to your 'Car' class then print out two different instances with different doors and seats"
   ]
  },
  {
   "cell_type": "code",
   "execution_count": 23,
   "metadata": {},
   "outputs": [
    {
     "name": "stdout",
     "output_type": "stream",
     "text": [
      "10 10 8 100\n"
     ]
    }
   ],
   "source": [
    "class Car():\n",
    "    wheels = 4 #initializing an attr\n",
    "    \n",
    "    def __init__(self, doors, seats, sunroof=False, windows=False): #Setting defaults\n",
    "        self.doors = doors\n",
    "        self.sunroof = sunroof\n",
    "        self.tires = 'rubber'\n",
    "        self.seats = seats\n",
    "        \n",
    "# create a seat and another - one attribute is required in instantiation\n",
    "\n",
    "toyota.seats = 8\n",
    "toyota.windows = 100\n",
    "honda.seats = 10\n",
    "honda.windows = 10\n",
    "\n",
    "print(honda.windows, honda.seats, toyota.seats, toyota.windows)"
   ]
  },
  {
   "cell_type": "markdown",
   "metadata": {},
   "source": [
    "## Class Methods <br>\n",
    "<p>While inside of a class, functions are referred to as 'methods'. If you hear someone mention methods, they're speaking about classes. Methods are essentially functions, but only callable on the instances of a class.</p>"
   ]
  },
  {
   "cell_type": "markdown",
   "metadata": {},
   "source": [
    "##### Creating"
   ]
  },
  {
   "cell_type": "code",
   "execution_count": 27,
   "metadata": {},
   "outputs": [
    {
     "name": "stdout",
     "output_type": "stream",
     "text": [
      "56\n",
      "98\n",
      "a to add, r to remove, c to check gas, f to fill, b to check bed, q to quita\n",
      "What junk did ya just pick up? bubs\n",
      "a to add, r to remove, c to check gas, f to fill, b to check bed, q to quita\n",
      "What junk did ya just pick up? loins\n",
      "a to add, r to remove, c to check gas, f to fill, b to check bed, q to quita\n",
      "What junk did ya just pick up? poils\n",
      "a to add, r to remove, c to check gas, f to fill, b to check bed, q to quitc\n",
      "34\n",
      "a to add, r to remove, c to check gas, f to fill, b to check bed, q to quitf\n",
      "How much did you put in?333\n",
      "Added 333 gallons\n",
      "367\n",
      "a to add, r to remove, c to check gas, f to fill, b to check bed, q to quitq\n"
     ]
    }
   ],
   "source": [
    "# method is about a particular class and only callable on instances of a class\n",
    "\n",
    "class Pickup():\n",
    "    \"\"\"\n",
    "    This is the hillbilly shopping cart!\n",
    "    \"\"\"\n",
    "    \n",
    "    #instantiate\n",
    "    \n",
    "    def __init__(self, wheels, gas_tank):\n",
    "        self.wheels = wheels\n",
    "        self.gas_tank = gas_tank\n",
    "        self.bed = []\n",
    "        \n",
    "    #create a method\n",
    "    \n",
    "    def check_tank(self): # must use self parameter if wanting to access attributes from instantiation above\n",
    "        print(self.gas_tank)\n",
    "        \n",
    "    \n",
    "    def check_bed(self):\n",
    "        if self.bed:\n",
    "            for item in self.bed:\n",
    "                print(item)\n",
    "        else:\n",
    "            print(\"Nuthin back there\")\n",
    "    \n",
    "    def chuck_in_back(self):\n",
    "        junk = input(\"What junk did ya just pick up? \")\n",
    "        self.bed.append(junk)\n",
    "        \n",
    "    def toss_out(self):\n",
    "        toss = input(\"What ya want to get rid of?\")\n",
    "        self.bed.remove(toss) # .remove() deletes the value, not position\n",
    "        \n",
    "    def filler_up(self):\n",
    "        gallons = int(input(\"How much did you put in?\"))\n",
    "        self.gas_tank += gallons\n",
    "        print(f\"Added {gallons} gallons\")\n",
    "        # call a method within a method below - self.check_tank() inside this method\n",
    "        self.check_tank()\n",
    "              \n",
    "    def run(self):\n",
    "        while True: # create a break condition always\n",
    "              menu = input(\"a to add, r to remove, c to check gas, f to fill, b to check bed, q to quit\")\n",
    "              if menu == 'a':\n",
    "                  self.chuck_in_back()\n",
    "              elif menu == 'r':\n",
    "                  self.toss_out()\n",
    "              elif menu == 'c':\n",
    "                  self.check_tank()\n",
    "              elif menu == 'f':\n",
    "                  self.filler_up()\n",
    "              elif menu == 'b':\n",
    "                  self.check_bed()\n",
    "              elif menu == 'q':\n",
    "                  break\n",
    "              else: # catchall if input is none of letters above\n",
    "                  print(\"Incorrect option. Try again.\")\n",
    "        \n",
    "    \n",
    "                \n",
    "        \n",
    "p = Pickup(4, 56)\n",
    "\n",
    "#method - Pickup.method(parameters)\n",
    "\n",
    "p.check_tank()\n",
    "\n",
    "chev = Pickup(4, 98)\n",
    "\n",
    "chev.check_tank()\n",
    "\n",
    "f150 = Pickup(4, 34)\n",
    "f150.run()\n",
    "        "
   ]
  },
  {
   "cell_type": "markdown",
   "metadata": {},
   "source": [
    "##### Calling"
   ]
  },
  {
   "cell_type": "code",
   "execution_count": null,
   "metadata": {},
   "outputs": [],
   "source": [
    "# See Above"
   ]
  },
  {
   "cell_type": "markdown",
   "metadata": {},
   "source": [
    "##### Modifying an Attribute's Value Through a Method"
   ]
  },
  {
   "cell_type": "code",
   "execution_count": null,
   "metadata": {},
   "outputs": [],
   "source": [
    "# toss, fillerup, chuckinback"
   ]
  },
  {
   "cell_type": "markdown",
   "metadata": {},
   "source": [
    "##### Incrementing an Attribute's Value Through a Method"
   ]
  },
  {
   "cell_type": "code",
   "execution_count": null,
   "metadata": {},
   "outputs": [],
   "source": []
  },
  {
   "cell_type": "markdown",
   "metadata": {},
   "source": [
    "##### In-Class Exercise #3 - Add a method that takes in three parameters of year, doors and seats and prints out a formatted print statement with make, model, year, seats, and doors"
   ]
  },
  {
   "cell_type": "code",
   "execution_count": 54,
   "metadata": {},
   "outputs": [],
   "source": [
    "# Create class with 2 paramters inside of the __init__ which are make and model\n",
    "\n",
    "# Inside of the Car class create a method that has 4 parameter in total (self,year,door,seats)\n",
    "\n",
    "# Output: This car is from 2019 and is a Ford Expolorer and has 4 doors and 5 seats\n",
    "\n",
    "\n",
    "class Car():\n",
    "    wheels = 4 #initializing an attr\n",
    "    \n",
    "    def __init__(self, make, model): #Setting defaults\n",
    "        self.make = make\n",
    "        self.model = model\n",
    "\n",
    "    def this_car_is(self, year, door, seats):\n",
    "        print(f\"This car is from {year} and is a {self.make} {self.model} and has {door} doors and {seats} seats\")\n",
    "        \n",
    "toya = Car('toyota', 'prius')\n",
    "\n",
    "\n",
    "\n",
    "\n"
   ]
  },
  {
   "cell_type": "markdown",
   "metadata": {},
   "source": [
    "## Inheritance <br>\n",
    "<p>You can create a child-parent relationship between two classes by using inheritance. What this allows you to do is have overriding methods, but also inherit traits from the parent class. Think of it as an actual parent and child, the child will inherit the parent's genes, as will the classes in OOP</p>"
   ]
  },
  {
   "cell_type": "markdown",
   "metadata": {},
   "source": [
    "##### Syntax for Inheriting from a Parent Class"
   ]
  },
  {
   "cell_type": "code",
   "execution_count": 45,
   "metadata": {},
   "outputs": [
    {
     "name": "stdout",
     "output_type": "stream",
     "text": [
      "WOOF WOOF WOOF WOOF!\n",
      "WOOF!\n"
     ]
    }
   ],
   "source": [
    "class Mammal():\n",
    "    warm_blooded = True\n",
    "    \n",
    "    def __init__(self, name, species, legs = 4):\n",
    "        self.name = name\n",
    "        self.species = species\n",
    "        self.legs = legs\n",
    "        \n",
    "    def breathe(self):\n",
    "        print(\".... Breathe ....\")\n",
    "        \n",
    "#inheritance example below\n",
    "# class childname(parentname)\n",
    "\n",
    "class Cat(Mammal):\n",
    "    pass\n",
    "\n",
    "class Dog(Mammal):\n",
    "    loyal = True # specific attribute to dog\n",
    "    \n",
    "    #specific method to dog class below\n",
    "    \n",
    "    def bark(self):\n",
    "        print(\"WOOF!\")\n",
    "\n",
    "# create a class of child\n",
    "\n",
    "class Mutt(Dog):\n",
    "    color = 'brown'\n",
    "    \n",
    "    #instantiate this class\n",
    "    \n",
    "    def __init__(self, name, species, tail, legs = 5):\n",
    "        Dog.__init__(self, name, species, legs) # TO INHERIT FROM DOG CLASS\n",
    "        self.tail = tail\n",
    "    \n",
    "    def make_sound(self):\n",
    "        print(\"WOOF WOOF WOOF WOOF!\")\n",
    "        \n",
    "#instantiate examples below\n",
    "\n",
    "fido = Dog(\"fido\", \"pompom\")\n",
    "rex = Mutt('rex', 'pug', False)\n",
    "whale = Mammal('willy', 'orca')\n",
    "\n",
    "rex.make_sound()\n",
    "fido.bark()\n",
    "\n",
    "    "
   ]
  },
  {
   "cell_type": "markdown",
   "metadata": {},
   "source": [
    "##### The \\__init\\__() Method for a Child Class - super()"
   ]
  },
  {
   "cell_type": "code",
   "execution_count": 50,
   "metadata": {
    "scrolled": true
   },
   "outputs": [
    {
     "ename": "TypeError",
     "evalue": "Mammal.__init__() takes from 3 to 4 positional arguments but 5 were given",
     "output_type": "error",
     "traceback": [
      "\u001b[0;31m---------------------------------------------------------------------------\u001b[0m",
      "\u001b[0;31mTypeError\u001b[0m                                 Traceback (most recent call last)",
      "Cell \u001b[0;32mIn[50], line 15\u001b[0m\n\u001b[1;32m     11\u001b[0m         \u001b[38;5;28mprint\u001b[39m(\u001b[38;5;124m\"\u001b[39m\u001b[38;5;124mWOOF WOOF WOOF WOOF!\u001b[39m\u001b[38;5;124m\"\u001b[39m)\n\u001b[1;32m     13\u001b[0m \u001b[38;5;66;03m#instantiate \u001b[39;00m\n\u001b[0;32m---> 15\u001b[0m rex2 \u001b[38;5;241m=\u001b[39m Mutt(\u001b[38;5;124m'\u001b[39m\u001b[38;5;124mrex2\u001b[39m\u001b[38;5;124m'\u001b[39m, \u001b[38;5;124m'\u001b[39m\u001b[38;5;124mchichi\u001b[39m\u001b[38;5;124m'\u001b[39m, \u001b[38;5;28;01mTrue\u001b[39;00m)\n\u001b[1;32m     16\u001b[0m rex2\u001b[38;5;241m.\u001b[39mmake_sound()\n",
      "Cell \u001b[0;32mIn[50], line 7\u001b[0m, in \u001b[0;36mMutt.__init__\u001b[0;34m(self, name, species, tail, legs)\u001b[0m\n\u001b[1;32m      6\u001b[0m \u001b[38;5;28;01mdef\u001b[39;00m \u001b[38;5;21m__init__\u001b[39m(\u001b[38;5;28mself\u001b[39m, name, species, tail, legs \u001b[38;5;241m=\u001b[39m \u001b[38;5;241m5\u001b[39m):\n\u001b[0;32m----> 7\u001b[0m     \u001b[38;5;28msuper\u001b[39m()\u001b[38;5;241m.\u001b[39m\u001b[38;5;21m__init__\u001b[39m(\u001b[38;5;28mself\u001b[39m, name, species, legs) \u001b[38;5;66;03m# TO INHERIT FROM DOG CLASS USE SUPER().\u001b[39;00m\n\u001b[1;32m      8\u001b[0m     \u001b[38;5;28mself\u001b[39m\u001b[38;5;241m.\u001b[39mtail \u001b[38;5;241m=\u001b[39m tail\n",
      "\u001b[0;31mTypeError\u001b[0m: Mammal.__init__() takes from 3 to 4 positional arguments but 5 were given"
     ]
    }
   ],
   "source": [
    "class Mutt(Dog):\n",
    "    color = 'brown'\n",
    "    \n",
    "    #instantiate this class\n",
    "    \n",
    "    def __init__(self, name, species, tail, legs = 5):\n",
    "        super().__init__(self, name, species, legs) # TO INHERIT FROM DOG CLASS USE SUPER().\n",
    "        self.tail = tail\n",
    "    \n",
    "    def make_sound2(self):\n",
    "        print(\"WOOF WOOF WOOF WOOF!\")\n",
    "       \n",
    "#instantiate \n",
    "\n",
    "rex2 = Mutt('rex2', 'chichi', True)\n",
    "rex2.make_sound()"
   ]
  },
  {
   "cell_type": "markdown",
   "metadata": {},
   "source": [
    "##### Defining Attributes and Methods for the Child Class"
   ]
  },
  {
   "cell_type": "code",
   "execution_count": null,
   "metadata": {},
   "outputs": [],
   "source": [
    "# See Above"
   ]
  },
  {
   "cell_type": "markdown",
   "metadata": {},
   "source": [
    "##### Method Overriding"
   ]
  },
  {
   "cell_type": "code",
   "execution_count": null,
   "metadata": {},
   "outputs": [],
   "source": [
    "# See Above"
   ]
  },
  {
   "cell_type": "markdown",
   "metadata": {},
   "source": [
    "## Classes as Attributes <br>\n",
    "<p>Classes can also be used as attributes within another class. This is useful in situations where you need to keep variables locally stored, instead of globally stored.</p>"
   ]
  },
  {
   "cell_type": "code",
   "execution_count": 52,
   "metadata": {},
   "outputs": [
    {
     "data": {
      "text/plain": [
       "'This car: Tesla M with a battery featuring 24 cells and 112 amps'"
      ]
     },
     "execution_count": 52,
     "metadata": {},
     "output_type": "execute_result"
    }
   ],
   "source": [
    "class Battery():\n",
    "    def __init__(self, cells):\n",
    "        self.cells = cells\n",
    "        self.amperage = 112\n",
    "class Electric_car():\n",
    "    def __init__(self, make, model, battery):\n",
    "        self.make = make\n",
    "        self.model = model\n",
    "        self.battery = battery\n",
    "        \n",
    "    def print_info(self):\n",
    "        return f\"This car: {self.make} {self.model} with a battery featuring {self.battery.cells} cells and {self.battery.amperage} amps\"\n",
    "    \n",
    "bat = Battery(24)\n",
    "tesla = Electric_car('Tesla', 'M', bat)\n",
    "tesla.print_info()"
   ]
  },
  {
   "cell_type": "markdown",
   "metadata": {},
   "source": [
    "# Exercises"
   ]
  },
  {
   "cell_type": "markdown",
   "metadata": {},
   "source": [
    "### Exercise 1 - Turn the shopping cart program from yesterday into an object-oriented program\n",
    "\n",
    "The comments in the cell below are there as a guide for thinking about the problem. However, if you feel a different way is best for you and your own thought process, please do what feels best for you by all means."
   ]
  },
  {
   "cell_type": "code",
   "execution_count": 11,
   "metadata": {},
   "outputs": [
    {
     "name": "stdout",
     "output_type": "stream",
     "text": [
      "You added 3 salmon to your cart.\n",
      "You added 5 rice to your cart.\n",
      "Incorrect option. Try again.\n",
      "Incorrect option. Try again.\n",
      "You added 5 poi to your cart.\n",
      "You added 2 pitaya to your cart.\n",
      "You added 7 nori to your cart.\n",
      "You added 2 matcha to your cart.\n",
      "pinya is not in cart yet. Please add if desired.\n",
      "You removed 3 nori from your cart.\n",
      "You removed 1 nori from your cart.\n",
      "Your nori has been updated to 3\n",
      "Your nori has been updated to 3\n",
      "{'salmon': 3, 'rice': 5, 'poi': 5, 'pitaya': 2, 'nori': 3, 'matcha': 2}\n"
     ]
    }
   ],
   "source": [
    "# Create a class called cart that retains items and has methods to add, remove, and show\n",
    "\n",
    "class Cart():\n",
    "    \n",
    "    #instantiate\n",
    "    \n",
    "    def __init__(self, item=None, quantity=0, cart=0): #attributes are now specific to instances of global class Cart()\n",
    "        self.item = item\n",
    "        self.quantity = quantity\n",
    "        self.cart = {}\n",
    "        \n",
    "    #create a method\n",
    "    # method is about a particular class and only callable on instances of a class\n",
    "\n",
    "    \n",
    "    def add_item(self): # must use self parameter if wanting to access attributes from instantiation above\n",
    "        item = input(\"What item? \")\n",
    "        quantity = int(input(\"How many {item}? \"))\n",
    "        self.cart[item] = quantity\n",
    "        print(f\"You added {quantity} {item} to your cart.\")\n",
    "        \n",
    "    def remove_item(self):\n",
    "        item = input(\"What item? \")\n",
    "        quantity = int(input(\"How many {item}? \"))\n",
    "        if item in self.cart:\n",
    "            self.cart[item] = self.cart[item] - quantity \n",
    "            print(f\"You removed {quantity} {item} from your cart.\")\n",
    "            print(f\"Your {item} has been updated to {self.cart[item]}\")\n",
    "        elif item not in self.cart:\n",
    "            print(f\"{item} is not in cart yet. Please add if desired.\")\n",
    "              \n",
    "    def show_item(self): \n",
    "        item = input(\"What item? \")\n",
    "        print(f\"{item}: {self.cart[item]}\")\n",
    "        \n",
    "    def show_cart(self):\n",
    "        print(self.cart)\n",
    "        if not self.cart:\n",
    "            print(\"Your cart is empty.\")\n",
    "              \n",
    "    def run_cart(self):\n",
    "        while True: # create a break condition always\n",
    "              ask_user = input(\"Type 'a' to add, 'r' to remove or 's' to show an item. Type 'q' to quit. \")\n",
    "              \n",
    "              if ask_user == 'a':\n",
    "                  self.add_item()\n",
    "              elif ask_user == 'r':\n",
    "                  self.remove_item()\n",
    "              elif ask_user == 's':\n",
    "                  self.show_item()\n",
    "              elif ask_user == 'q':\n",
    "                  self.show_cart()\n",
    "                  break\n",
    "              else: # catchall if input is none of letters above\n",
    "                  print(\"Incorrect option. Try again.\")\n",
    "        \n",
    "        \n",
    "buhay = Cart()\n",
    "buhay.run_cart()\n",
    "\n"
   ]
  },
  {
   "cell_type": "markdown",
   "metadata": {},
   "source": [
    "### Exercise 2 - Write a Python class which has two methods get_String and print_String. get_String accept a string from the user and print_String print the string in upper case"
   ]
  },
  {
   "cell_type": "code",
   "execution_count": 26,
   "metadata": {},
   "outputs": [
    {
     "name": "stdout",
     "output_type": "stream",
     "text": [
      "TELL ME WHYYYY AINT NUTHIN BUT A HEARTAAAACHE\n"
     ]
    }
   ],
   "source": [
    "# create one class Global() with two methods def get_String and def print_String\n",
    "# get_String accepts input from user (a string)\n",
    "# print_String prints the input to upper case\n",
    "\n",
    "class String(): #global class\n",
    "    def __init__(self, string=None): #initialize\n",
    "        self.string = string\n",
    "        \n",
    "    def get_String(self):\n",
    "        self.string = input(\"Type a word or phrase. \")\n",
    "        return self.string\n",
    "        \n",
    "    def print_String(self):\n",
    "        print(self.string.upper())\n",
    "\n",
    "    def run_both(self):\n",
    "        self.get_String()\n",
    "        self.print_String()\n",
    "            \n",
    "buhay = String()\n",
    "# buhay.get_String()\n",
    "# buhay.print_String()\n",
    "buhay.run_both()"
   ]
  },
  {
   "cell_type": "code",
   "execution_count": null,
   "metadata": {},
   "outputs": [],
   "source": [
    "\n"
   ]
  },
  {
   "cell_type": "code",
   "execution_count": null,
   "metadata": {},
   "outputs": [],
   "source": []
  }
 ],
 "metadata": {
  "kernelspec": {
   "display_name": "Python 3 (ipykernel)",
   "language": "python",
   "name": "python3"
  },
  "language_info": {
   "codemirror_mode": {
    "name": "ipython",
    "version": 3
   },
   "file_extension": ".py",
   "mimetype": "text/x-python",
   "name": "python",
   "nbconvert_exporter": "python",
   "pygments_lexer": "ipython3",
   "version": "3.11.5"
  }
 },
 "nbformat": 4,
 "nbformat_minor": 2
}
